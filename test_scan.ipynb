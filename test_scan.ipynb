{
 "cells": [
  {
   "cell_type": "markdown",
   "metadata": {},
   "source": [
    "From https://gist.github.com/shoyer/4e0328c277e46f58c47d79b85a51aa0a"
   ]
  },
  {
   "cell_type": "code",
   "execution_count": 4,
   "metadata": {},
   "outputs": [],
   "source": [
    "import os\n",
    "\n",
    "# do not prealocate memory\n",
    "os.environ[\"XLA_PYTHON_CLIENT_PREALLOCATE\"] = \"false\"\n",
    "os.environ[\"XLA_PYTHON_CLIENT_ALLOCATOR\"] = \"platform\"\n",
    "\n",
    "# Set cuda device to use\n",
    "os.environ[\"CUDA_DEVICE_ORDER\"] = \"PCI_BUS_ID\"\n",
    "os.environ[\"CUDA_VISIBLE_DEVICES\"] = \"0\""
   ]
  },
  {
   "cell_type": "code",
   "execution_count": 6,
   "metadata": {},
   "outputs": [
    {
     "data": {
      "text/plain": [
       "'0.4.23'"
      ]
     },
     "execution_count": 6,
     "metadata": {},
     "output_type": "execute_result"
    }
   ],
   "source": [
    "from jax import lax, jit\n",
    "from functools import partial\n",
    "\n",
    "import jax.numpy as jnp\n",
    "import jax\n",
    "import numpy as np\n",
    "jax.__version__"
   ]
  },
  {
   "cell_type": "code",
   "execution_count": 7,
   "metadata": {},
   "outputs": [
    {
     "name": "stdout",
     "output_type": "stream",
     "text": [
      "CPU\n",
      "unroll=1\n",
      "CPU times: user 56.8 ms, sys: 166 ms, total: 223 ms\n",
      "Wall time: 295 ms\n",
      "82.6 µs ± 142 ns per loop (mean ± std. dev. of 7 runs, 10,000 loops each)\n",
      "unroll=2\n",
      "CPU times: user 24.3 ms, sys: 3.62 ms, total: 27.9 ms\n",
      "Wall time: 27.8 ms\n",
      "43.6 µs ± 1.15 µs per loop (mean ± std. dev. of 7 runs, 10,000 loops each)\n",
      "unroll=4\n",
      "CPU times: user 24.6 ms, sys: 3.58 ms, total: 28.1 ms\n",
      "Wall time: 28 ms\n",
      "33.5 µs ± 959 ns per loop (mean ± std. dev. of 7 runs, 10,000 loops each)\n",
      "unroll=8\n",
      "CPU times: user 24.5 ms, sys: 6.83 ms, total: 31.4 ms\n",
      "Wall time: 31.1 ms\n",
      "37.4 µs ± 1.82 µs per loop (mean ± std. dev. of 7 runs, 10,000 loops each)\n",
      "unroll=16\n",
      "CPU times: user 36.9 ms, sys: 3.37 ms, total: 40.3 ms\n",
      "Wall time: 40.6 ms\n",
      "50 µs ± 12.2 ns per loop (mean ± std. dev. of 7 runs, 10,000 loops each)\n",
      "unroll=32\n",
      "CPU times: user 73.8 ms, sys: 80 µs, total: 73.9 ms\n",
      "Wall time: 74.3 ms\n",
      "73.5 µs ± 647 ns per loop (mean ± std. dev. of 7 runs, 10,000 loops each)\n",
      "unroll=64\n",
      "CPU times: user 103 ms, sys: 32 µs, total: 103 ms\n",
      "Wall time: 104 ms\n",
      "114 µs ± 381 ns per loop (mean ± std. dev. of 7 runs, 10,000 loops each)\n",
      "unroll=128\n",
      "CPU times: user 179 ms, sys: 6.61 ms, total: 185 ms\n",
      "Wall time: 186 ms\n",
      "919 µs ± 3.28 µs per loop (mean ± std. dev. of 7 runs, 1,000 loops each)\n"
     ]
    }
   ],
   "source": [
    "@partial(jit, static_argnames=['unroll'], backend='cpu')\n",
    "def polyval(p, x, unroll=64):\n",
    "  shape = lax.broadcast_shapes(p.shape[1:], x.shape)\n",
    "  dtype = jnp.result_type(p, x)\n",
    "  y = lax.full_like(x, 0, shape=shape, dtype=dtype)\n",
    "  y, _ = lax.scan(lambda y, p: (y * x + p, None), y, p, unroll=unroll)\n",
    "  return y\n",
    "\n",
    "\n",
    "x = np.random.rand(100).astype(np.float32)\n",
    "p = np.random.randn(10000).astype(np.float32)\n",
    "\n",
    "print(\"CPU\")\n",
    "for unroll in [1, 2, 4, 8, 16, 32, 64, 128]:\n",
    "  print(f\"unroll={unroll}\")\n",
    "  %time polyval(p, x, unroll).block_until_ready()\n",
    "  %timeit polyval(p, x, unroll).block_until_ready()"
   ]
  },
  {
   "cell_type": "code",
   "execution_count": 8,
   "metadata": {},
   "outputs": [
    {
     "name": "stdout",
     "output_type": "stream",
     "text": [
      "GPU\n",
      "unroll=1\n",
      "CPU times: user 109 ms, sys: 6.73 ms, total: 116 ms\n",
      "Wall time: 152 ms\n",
      "46.6 ms ± 1.75 ms per loop (mean ± std. dev. of 7 runs, 10 loops each)\n",
      "unroll=2\n",
      "CPU times: user 71 ms, sys: 50 µs, total: 71 ms\n",
      "Wall time: 78.1 ms\n",
      "23 ms ± 434 µs per loop (mean ± std. dev. of 7 runs, 10 loops each)\n",
      "unroll=4\n",
      "CPU times: user 58.9 ms, sys: 98 µs, total: 59 ms\n",
      "Wall time: 67.9 ms\n",
      "11.2 ms ± 11.9 µs per loop (mean ± std. dev. of 7 runs, 100 loops each)\n",
      "unroll=8\n",
      "CPU times: user 53.5 ms, sys: 3.34 ms, total: 56.8 ms\n",
      "Wall time: 64.2 ms\n",
      "5.66 ms ± 21.4 µs per loop (mean ± std. dev. of 7 runs, 100 loops each)\n",
      "unroll=16\n",
      "CPU times: user 69.2 ms, sys: 0 ns, total: 69.2 ms\n",
      "Wall time: 76.5 ms\n",
      "2.87 ms ± 7.6 µs per loop (mean ± std. dev. of 7 runs, 100 loops each)\n",
      "unroll=32\n",
      "CPU times: user 122 ms, sys: 10.1 ms, total: 132 ms\n",
      "Wall time: 128 ms\n",
      "2.18 ms ± 2.74 µs per loop (mean ± std. dev. of 7 runs, 100 loops each)\n",
      "unroll=64\n",
      "CPU times: user 243 ms, sys: 238 µs, total: 243 ms\n",
      "Wall time: 241 ms\n",
      "1.12 ms ± 575 ns per loop (mean ± std. dev. of 7 runs, 1,000 loops each)\n",
      "unroll=128\n",
      "CPU times: user 850 ms, sys: 6.27 ms, total: 856 ms\n",
      "Wall time: 859 ms\n",
      "599 µs ± 487 ns per loop (mean ± std. dev. of 7 runs, 1,000 loops each)\n"
     ]
    }
   ],
   "source": [
    "@partial(jit, static_argnames=['unroll'], backend='gpu')\n",
    "def polyval(p, x, unroll=64):\n",
    "  shape = lax.broadcast_shapes(p.shape[1:], x.shape)\n",
    "  dtype = jnp.result_type(p, x)\n",
    "  y = lax.full_like(x, 0, shape=shape, dtype=dtype)\n",
    "  y, _ = lax.scan(lambda y, p: (y * x + p, None), y, p, unroll=unroll)\n",
    "  return y\n",
    "\n",
    "\n",
    "x = jax.device_put(np.random.rand(100))\n",
    "p = jax.device_put(np.random.randn(10000))\n",
    "\n",
    "print(\"GPU\")\n",
    "for unroll in [1, 2, 4, 8, 16, 32, 64, 128]:\n",
    "  print(f\"unroll={unroll}\")\n",
    "  %time polyval(p, x, unroll).block_until_ready()\n",
    "  %timeit polyval(p, x, unroll).block_until_ready()"
   ]
  },
  {
   "cell_type": "code",
   "execution_count": null,
   "metadata": {},
   "outputs": [],
   "source": []
  }
 ],
 "metadata": {
  "kernelspec": {
   "display_name": "cscg",
   "language": "python",
   "name": "python3"
  },
  "language_info": {
   "codemirror_mode": {
    "name": "ipython",
    "version": 3
   },
   "file_extension": ".py",
   "mimetype": "text/x-python",
   "name": "python",
   "nbconvert_exporter": "python",
   "pygments_lexer": "ipython3",
   "version": "3.12.1"
  }
 },
 "nbformat": 4,
 "nbformat_minor": 2
}
